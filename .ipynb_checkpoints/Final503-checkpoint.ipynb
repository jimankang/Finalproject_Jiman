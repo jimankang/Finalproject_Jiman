{
 "cells": [
  {
   "cell_type": "markdown",
   "metadata": {},
   "source": [
    "# Intestine Transplant\n",
    "![](https://optn.transplant.hrsa.gov/media/data/organ_intestine.gif)\n",
    "\n",
    "### About the Intestine\n",
    "#### The descending colon is the middle part of the colon located on the left side of the abdomen. The large intestine goes from the cecum to the rectum. Measuring about twenty feet, the small intestine is where most digestion occurs. \n",
    "\n",
    "#### Reference: United Network for Organ Sharing (UNOS)\n"
   ]
  },
  {
   "cell_type": "markdown",
   "metadata": {},
   "source": [
    "![](https://myhealth.alberta.ca/Health/_layouts/15/healthwise/media/medical/hw/hwkb17_007_11.jpg)\n",
    "\n",
    "### Transplant procedure\n",
    "\n",
    "#### For an intestinal transplant, the recipient's diseased intestine is removed and replaced with the donated intestine. Most intestine transplants involve a whole organ from a deceased donor and most intestine transplants are performed in conjunction with a liver transplant.\n",
    "\n",
    "### Difficulty in Intestinial Transplant\n",
    "#### The intestine has been more difficult to transplant than other solid organs and some of the possible reasons include:\n",
    "\n",
    "#### the large number of white cells in the bowel provides a strong stimulus for rejection\n",
    "#### the large number of bacteria in the gut increases the risk of infection after transplantation"
   ]
  },
  {
   "cell_type": "code",
   "execution_count": 13,
   "metadata": {},
   "outputs": [
    {
     "data": {
      "image/png": "[encoded data removed]",
      "text/plain": [
       "<matplotlib.figure.Figure at 0x1c7190bfb00>"
      ]
     },
     "metadata": {},
     "output_type": "display_data"
    }
   ],
   "source": [
    "import matplotlib.pyplot as plt\n",
    "labels ='Liver','Kidney', 'Kidney/Pancreas', 'Pancreas', 'Heart', 'Lung', 'Intestine'\n",
    "sizes = [21.6, 58.9, 3.2, 1.2, 9.6, 4.9, 0.4]\n",
    "colors =['blue', 'green', 'orange','red', 'yellow', 'pink', 'purple']\n",
    "plt.figure(figsize =(7,7))\n",
    "plt.pie(sizes, labels=labels, colors=colors, shadow =True, startangle =120)\n",
    "plt.axis('equal')\n",
    "plt.show()"
   ]
  },
  {
   "cell_type": "code",
   "execution_count": 14,
   "metadata": {},
   "outputs": [
    {
     "data": {
      "text/html": [
       "<div>\n",
       "<style>\n",
       "    .dataframe thead tr:only-child th {\n",
       "        text-align: right;\n",
       "    }\n",
       "\n",
       "    .dataframe thead th {\n",
       "        text-align: left;\n",
       "    }\n",
       "\n",
       "    .dataframe tbody tr th {\n",
       "        vertical-align: top;\n",
       "    }\n",
       "</style>\n",
       "<table border=\"1\" class=\"dataframe\">\n",
       "  <thead>\n",
       "    <tr style=\"text-align: right;\">\n",
       "      <th></th>\n",
       "      <th>Recipient Blood Type</th>\n",
       "      <th>Years</th>\n",
       "      <th>Number  Alive</th>\n",
       "      <th>Survival Rate</th>\n",
       "    </tr>\n",
       "    <tr>\n",
       "      <th>Region</th>\n",
       "      <th></th>\n",
       "      <th></th>\n",
       "      <th></th>\n",
       "      <th></th>\n",
       "    </tr>\n",
       "  </thead>\n",
       "  <tbody>\n",
       "    <tr>\n",
       "      <th>U.S.</th>\n",
       "      <td>O</td>\n",
       "      <td>1 Year</td>\n",
       "      <td>191</td>\n",
       "      <td>80.5</td>\n",
       "    </tr>\n",
       "    <tr>\n",
       "      <th>U.S.</th>\n",
       "      <td>A</td>\n",
       "      <td>1 Year</td>\n",
       "      <td>109</td>\n",
       "      <td>69.2</td>\n",
       "    </tr>\n",
       "    <tr>\n",
       "      <th>U.S.</th>\n",
       "      <td>B</td>\n",
       "      <td>1 Year</td>\n",
       "      <td>54</td>\n",
       "      <td>76.4</td>\n",
       "    </tr>\n",
       "    <tr>\n",
       "      <th>U.S.</th>\n",
       "      <td>AB</td>\n",
       "      <td>1 Year</td>\n",
       "      <td>16</td>\n",
       "      <td>72.7</td>\n",
       "    </tr>\n",
       "    <tr>\n",
       "      <th>U.S.</th>\n",
       "      <td>O</td>\n",
       "      <td>3 Year</td>\n",
       "      <td>151</td>\n",
       "      <td>64.8</td>\n",
       "    </tr>\n",
       "  </tbody>\n",
       "</table>\n",
       "</div>"
      ],
      "text/plain": [
       "       Recipient Blood Type   Years  Number  Alive  Survival Rate\n",
       "Region                                                           \n",
       "U.S.                      O  1 Year            191           80.5\n",
       "U.S.                      A  1 Year            109           69.2\n",
       "U.S.                      B  1 Year             54           76.4\n",
       "U.S.                     AB  1 Year             16           72.7\n",
       "U.S.                      O  3 Year            151           64.8"
      ]
     },
     "execution_count": 14,
     "metadata": {},
     "output_type": "execute_result"
    }
   ],
   "source": [
    "import pandas as pd\n",
    "transplant_data = pd.read_csv(\"book1.csv\",index_col =0)\n",
    "transplant_data.head()"
   ]
  },
  {
   "cell_type": "code",
   "execution_count": 15,
   "metadata": {},
   "outputs": [
    {
     "data": {
      "image/png": "[encoded data removed]",
      "text/plain": [
       "<matplotlib.figure.Figure at 0x1c71cf5a4a8>"
      ]
     },
     "metadata": {},
     "output_type": "display_data"
    }
   ],
   "source": [
    "import matplotlib.patches as mpatches\n",
    "import matplotlib.pyplot as plt\n",
    "%matplotlib inline\n",
    "survival_rate1 = [80.5, 69.2, 76.4, 72.7]\n",
    "survival_rate2 = [64.8, 53.9, 57.0, 57.7]\n",
    "survival_rate3 = [53.7, 47.3, 41.8, 49.7]\n",
    "years= [1,3,5]\n",
    "for i in range(0,4):\n",
    "    plt.plot(years, \n",
    "             [survival_rate1[i],\n",
    "              survival_rate2[i],\n",
    "              survival_rate3[i]],\n",
    "              '-o')\n",
    "blue = mpatches.Patch(color ='blue', label='O')\n",
    "green = mpatches.Patch(color ='green', label='A')\n",
    "red =mpatches.Patch(color = 'red', label= 'B')\n",
    "orange =mpatches.Patch(color ='purple', label= 'AB')\n",
    "plt.legend(handles= [blue, green, red, orange])\n",
    "plt.title('transplant survival(Intestine)', fontsize=20)\n",
    "plt.show()"
   ]
  },
  {
   "cell_type": "markdown",
   "metadata": {},
   "source": [
    "## Collecting the data"
   ]
  },
  {
   "cell_type": "code",
   "execution_count": 16,
   "metadata": {},
   "outputs": [
    {
     "data": {
      "text/html": [
       "<div>\n",
       "<style>\n",
       "    .dataframe thead tr:only-child th {\n",
       "        text-align: right;\n",
       "    }\n",
       "\n",
       "    .dataframe thead th {\n",
       "        text-align: left;\n",
       "    }\n",
       "\n",
       "    .dataframe tbody tr th {\n",
       "        vertical-align: top;\n",
       "    }\n",
       "</style>\n",
       "<table border=\"1\" class=\"dataframe\">\n",
       "  <thead>\n",
       "    <tr style=\"text-align: right;\">\n",
       "      <th></th>\n",
       "      <th>Last</th>\n",
       "      <th>First</th>\n",
       "      <th>MRN</th>\n",
       "      <th>Race</th>\n",
       "      <th>Sex</th>\n",
       "      <th>Genotype</th>\n",
       "      <th>Age at Tx (yrs)</th>\n",
       "      <th>Date of SBTx</th>\n",
       "      <th>Operation</th>\n",
       "      <th>Primary Path</th>\n",
       "      <th>...</th>\n",
       "      <th>GVHD date</th>\n",
       "      <th>Death</th>\n",
       "      <th>Date of Death</th>\n",
       "      <th>Cause of Death</th>\n",
       "      <th>2_4wk_NCR_ILC1</th>\n",
       "      <th>2_4wk_NCR_ILC3</th>\n",
       "      <th>2_4M_NCR_ILC1</th>\n",
       "      <th>2_4M_NCR_ILC3</th>\n",
       "      <th>4_6M_NCR_ILC1</th>\n",
       "      <th>4_6M_NCR_ILC3</th>\n",
       "    </tr>\n",
       "  </thead>\n",
       "  <tbody>\n",
       "    <tr>\n",
       "      <th>0</th>\n",
       "      <td>XXX</td>\n",
       "      <td>XXX</td>\n",
       "      <td>720XXX</td>\n",
       "      <td>White</td>\n",
       "      <td>F</td>\n",
       "      <td>WT</td>\n",
       "      <td>3.9</td>\n",
       "      <td>9/3/2015</td>\n",
       "      <td>L/Panc/SB</td>\n",
       "      <td>Gastroschisis</td>\n",
       "      <td>...</td>\n",
       "      <td>NaN</td>\n",
       "      <td>No</td>\n",
       "      <td>NaN</td>\n",
       "      <td>NaN</td>\n",
       "      <td>83.9</td>\n",
       "      <td>0.00</td>\n",
       "      <td>88.9</td>\n",
       "      <td>0.00</td>\n",
       "      <td>92.9</td>\n",
       "      <td>2.17</td>\n",
       "    </tr>\n",
       "    <tr>\n",
       "      <th>1</th>\n",
       "      <td>XXX</td>\n",
       "      <td>XXX</td>\n",
       "      <td>632XXX</td>\n",
       "      <td>White</td>\n",
       "      <td>M</td>\n",
       "      <td>WT</td>\n",
       "      <td>20.7</td>\n",
       "      <td>9/18/2015</td>\n",
       "      <td>SB</td>\n",
       "      <td>Mitochodrial motility disorder</td>\n",
       "      <td>...</td>\n",
       "      <td>NaN</td>\n",
       "      <td>No</td>\n",
       "      <td>NaN</td>\n",
       "      <td>NaN</td>\n",
       "      <td>90.0</td>\n",
       "      <td>1.20</td>\n",
       "      <td>1.2</td>\n",
       "      <td>3.85</td>\n",
       "      <td>94.4</td>\n",
       "      <td>4.00</td>\n",
       "    </tr>\n",
       "    <tr>\n",
       "      <th>2</th>\n",
       "      <td>XXX</td>\n",
       "      <td>XXX</td>\n",
       "      <td>734XXX</td>\n",
       "      <td>White</td>\n",
       "      <td>F</td>\n",
       "      <td>WT</td>\n",
       "      <td>54.6</td>\n",
       "      <td>9/23/2015</td>\n",
       "      <td>SB</td>\n",
       "      <td>Mesenteric arterial thrombosis/embolus</td>\n",
       "      <td>...</td>\n",
       "      <td>NaN</td>\n",
       "      <td>No</td>\n",
       "      <td>NaN</td>\n",
       "      <td>NaN</td>\n",
       "      <td>NaN</td>\n",
       "      <td>NaN</td>\n",
       "      <td>NaN</td>\n",
       "      <td>NaN</td>\n",
       "      <td>NaN</td>\n",
       "      <td>NaN</td>\n",
       "    </tr>\n",
       "    <tr>\n",
       "      <th>3</th>\n",
       "      <td>XXX</td>\n",
       "      <td>XXX</td>\n",
       "      <td>226XXX</td>\n",
       "      <td>Hispanic</td>\n",
       "      <td>M</td>\n",
       "      <td>WT</td>\n",
       "      <td>1.7</td>\n",
       "      <td>11/19/2015</td>\n",
       "      <td>L/Panc/SB</td>\n",
       "      <td>Microvillious inclusion disease</td>\n",
       "      <td>...</td>\n",
       "      <td>NaN</td>\n",
       "      <td>No</td>\n",
       "      <td>NaN</td>\n",
       "      <td>NaN</td>\n",
       "      <td>NaN</td>\n",
       "      <td>NaN</td>\n",
       "      <td>NaN</td>\n",
       "      <td>NaN</td>\n",
       "      <td>NaN</td>\n",
       "      <td>NaN</td>\n",
       "    </tr>\n",
       "    <tr>\n",
       "      <th>4</th>\n",
       "      <td>XXX</td>\n",
       "      <td>XXX</td>\n",
       "      <td>653XXX</td>\n",
       "      <td>White</td>\n",
       "      <td>F</td>\n",
       "      <td>WT</td>\n",
       "      <td>54.1</td>\n",
       "      <td>11/22/2015</td>\n",
       "      <td>SB</td>\n",
       "      <td>Mass resection 2/2 tumor</td>\n",
       "      <td>...</td>\n",
       "      <td>NaN</td>\n",
       "      <td>No</td>\n",
       "      <td>NaN</td>\n",
       "      <td>NaN</td>\n",
       "      <td>NaN</td>\n",
       "      <td>NaN</td>\n",
       "      <td>NaN</td>\n",
       "      <td>NaN</td>\n",
       "      <td>NaN</td>\n",
       "      <td>NaN</td>\n",
       "    </tr>\n",
       "    <tr>\n",
       "      <th>5</th>\n",
       "      <td>XXX</td>\n",
       "      <td>XXX</td>\n",
       "      <td>734XXX</td>\n",
       "      <td>White</td>\n",
       "      <td>M</td>\n",
       "      <td>WT</td>\n",
       "      <td>20.1</td>\n",
       "      <td>12/2/2015</td>\n",
       "      <td>SB</td>\n",
       "      <td>SGS 2/2 multiple SB resections from SBOs</td>\n",
       "      <td>...</td>\n",
       "      <td>NaN</td>\n",
       "      <td>No</td>\n",
       "      <td>NaN</td>\n",
       "      <td>NaN</td>\n",
       "      <td>76.9</td>\n",
       "      <td>0.00</td>\n",
       "      <td>24.0</td>\n",
       "      <td>6.38</td>\n",
       "      <td>0.0</td>\n",
       "      <td>27.30</td>\n",
       "    </tr>\n",
       "    <tr>\n",
       "      <th>6</th>\n",
       "      <td>XXX</td>\n",
       "      <td>XXX</td>\n",
       "      <td>737XXX</td>\n",
       "      <td>White</td>\n",
       "      <td>M</td>\n",
       "      <td>WT</td>\n",
       "      <td>1.2</td>\n",
       "      <td>12/8/2015</td>\n",
       "      <td>SB</td>\n",
       "      <td>Intestinal volvulus</td>\n",
       "      <td>...</td>\n",
       "      <td>NaN</td>\n",
       "      <td>No</td>\n",
       "      <td>NaN</td>\n",
       "      <td>NaN</td>\n",
       "      <td>60.5</td>\n",
       "      <td>0.97</td>\n",
       "      <td>69.0</td>\n",
       "      <td>0.53</td>\n",
       "      <td>69.4</td>\n",
       "      <td>3.93</td>\n",
       "    </tr>\n",
       "    <tr>\n",
       "      <th>7</th>\n",
       "      <td>XXX</td>\n",
       "      <td>XXX</td>\n",
       "      <td>736XXX</td>\n",
       "      <td>White</td>\n",
       "      <td>M</td>\n",
       "      <td>Mut</td>\n",
       "      <td>1.4</td>\n",
       "      <td>2/9/2016</td>\n",
       "      <td>L/Panc/SB</td>\n",
       "      <td>Intestinal volvulus 2/2 malrotation</td>\n",
       "      <td>...</td>\n",
       "      <td>NaN</td>\n",
       "      <td>No</td>\n",
       "      <td>NaN</td>\n",
       "      <td>NaN</td>\n",
       "      <td>78.8</td>\n",
       "      <td>1.92</td>\n",
       "      <td>NaN</td>\n",
       "      <td>NaN</td>\n",
       "      <td>35.3</td>\n",
       "      <td>5.13</td>\n",
       "    </tr>\n",
       "    <tr>\n",
       "      <th>8</th>\n",
       "      <td>XXX</td>\n",
       "      <td>XXX</td>\n",
       "      <td>733XXX</td>\n",
       "      <td>Black</td>\n",
       "      <td>M</td>\n",
       "      <td>WT</td>\n",
       "      <td>23.3</td>\n",
       "      <td>3/5/2016</td>\n",
       "      <td>SB+C</td>\n",
       "      <td>Gardner's Syndrome (FAP, Desmoids)</td>\n",
       "      <td>...</td>\n",
       "      <td>NaN</td>\n",
       "      <td>No</td>\n",
       "      <td>NaN</td>\n",
       "      <td>NaN</td>\n",
       "      <td>NaN</td>\n",
       "      <td>NaN</td>\n",
       "      <td>NaN</td>\n",
       "      <td>NaN</td>\n",
       "      <td>NaN</td>\n",
       "      <td>NaN</td>\n",
       "    </tr>\n",
       "    <tr>\n",
       "      <th>9</th>\n",
       "      <td>XXX</td>\n",
       "      <td>XXX</td>\n",
       "      <td>722XXX</td>\n",
       "      <td>White</td>\n",
       "      <td>F</td>\n",
       "      <td>WT</td>\n",
       "      <td>52.8</td>\n",
       "      <td>3/5/2016</td>\n",
       "      <td>SB</td>\n",
       "      <td>SGS 2/2 multiple resections from SBOs</td>\n",
       "      <td>...</td>\n",
       "      <td>NaN</td>\n",
       "      <td>Yes</td>\n",
       "      <td>3/7/2016</td>\n",
       "      <td>asystole</td>\n",
       "      <td>NaN</td>\n",
       "      <td>NaN</td>\n",
       "      <td>NaN</td>\n",
       "      <td>NaN</td>\n",
       "      <td>NaN</td>\n",
       "      <td>NaN</td>\n",
       "    </tr>\n",
       "  </tbody>\n",
       "</table>\n",
       "<p>10 rows × 24 columns</p>\n",
       "</div>"
      ],
      "text/plain": [
       "  Last First     MRN      Race Sex Genotype  Age at Tx (yrs) Date of SBTx  \\\n",
       "0  XXX   XXX  720XXX     White   F       WT              3.9     9/3/2015   \n",
       "1  XXX   XXX  632XXX     White   M       WT             20.7    9/18/2015   \n",
       "2  XXX   XXX  734XXX     White   F       WT             54.6    9/23/2015   \n",
       "3  XXX   XXX  226XXX  Hispanic   M       WT              1.7   11/19/2015   \n",
       "4  XXX   XXX  653XXX     White   F       WT             54.1   11/22/2015   \n",
       "5  XXX   XXX  734XXX     White   M       WT             20.1    12/2/2015   \n",
       "6  XXX   XXX  737XXX     White   M       WT              1.2    12/8/2015   \n",
       "7  XXX   XXX  736XXX     White   M      Mut              1.4     2/9/2016   \n",
       "8  XXX   XXX  733XXX     Black   M       WT             23.3     3/5/2016   \n",
       "9  XXX   XXX  722XXX     White   F       WT             52.8     3/5/2016   \n",
       "\n",
       "   Operation                              Primary Path      ...        \\\n",
       "0  L/Panc/SB                             Gastroschisis      ...         \n",
       "1         SB            Mitochodrial motility disorder      ...         \n",
       "2         SB    Mesenteric arterial thrombosis/embolus      ...         \n",
       "3  L/Panc/SB           Microvillious inclusion disease      ...         \n",
       "4         SB                  Mass resection 2/2 tumor      ...         \n",
       "5         SB  SGS 2/2 multiple SB resections from SBOs      ...         \n",
       "6         SB                       Intestinal volvulus      ...         \n",
       "7  L/Panc/SB       Intestinal volvulus 2/2 malrotation      ...         \n",
       "8       SB+C        Gardner's Syndrome (FAP, Desmoids)      ...         \n",
       "9         SB     SGS 2/2 multiple resections from SBOs      ...         \n",
       "\n",
       "  GVHD date Death  Date of Death Cause of Death 2_4wk_NCR_ILC1 2_4wk_NCR_ILC3  \\\n",
       "0       NaN    No            NaN            NaN           83.9           0.00   \n",
       "1       NaN    No            NaN            NaN           90.0           1.20   \n",
       "2       NaN    No            NaN            NaN            NaN            NaN   \n",
       "3       NaN    No            NaN            NaN            NaN            NaN   \n",
       "4       NaN    No            NaN            NaN            NaN            NaN   \n",
       "5       NaN    No            NaN            NaN           76.9           0.00   \n",
       "6       NaN    No            NaN            NaN           60.5           0.97   \n",
       "7       NaN    No            NaN            NaN           78.8           1.92   \n",
       "8       NaN    No            NaN            NaN            NaN            NaN   \n",
       "9       NaN   Yes       3/7/2016       asystole            NaN            NaN   \n",
       "\n",
       "  2_4M_NCR_ILC1 2_4M_NCR_ILC3  4_6M_NCR_ILC1  4_6M_NCR_ILC3  \n",
       "0          88.9          0.00           92.9           2.17  \n",
       "1           1.2          3.85           94.4           4.00  \n",
       "2           NaN           NaN            NaN            NaN  \n",
       "3           NaN           NaN            NaN            NaN  \n",
       "4           NaN           NaN            NaN            NaN  \n",
       "5          24.0          6.38            0.0          27.30  \n",
       "6          69.0          0.53           69.4           3.93  \n",
       "7           NaN           NaN           35.3           5.13  \n",
       "8           NaN           NaN            NaN            NaN  \n",
       "9           NaN           NaN            NaN            NaN  \n",
       "\n",
       "[10 rows x 24 columns]"
      ]
     },
     "execution_count": 16,
     "metadata": {},
     "output_type": "execute_result"
    }
   ],
   "source": [
    "Tx_data =pd.read_csv(\"ILC Demographics.HW1.csv\", sep=\",\")\n",
    "\n",
    "Tx_data.head(10)"
   ]
  },
  {
   "cell_type": "markdown",
   "metadata": {},
   "source": [
    "## Plotting using Seaborn"
   ]
  },
  {
   "cell_type": "code",
   "execution_count": 17,
   "metadata": {},
   "outputs": [
    {
     "data": {
      "image/png": "[encoded data removed]",
      "text/plain": [
       "<matplotlib.figure.Figure at 0x1c71ce62e10>"
      ]
     },
     "metadata": {},
     "output_type": "display_data"
    }
   ],
   "source": [
    "import seaborn as sns\n",
    "sns.set()\n",
    "Tx_data.hist(figsize=(10,10))\n",
    "plt.show()"
   ]
  },
  {
   "cell_type": "markdown",
   "metadata": {},
   "source": [
    "## Barchart: Operation type\n",
    "#### L/Panc/SB = Liver/Pancreas/Small bowl\n",
    "#### MVTx = Multivisceral transplantation (MVTx); Liver, stomach, spleen, pancreaticoduodenal complex, and intestine "
   ]
  },
  {
   "cell_type": "code",
   "execution_count": 18,
   "metadata": {},
   "outputs": [
    {
     "data": {
      "text/plain": [
       "<matplotlib.legend.Legend at 0x1c71cec84a8>"
      ]
     },
     "execution_count": 18,
     "metadata": {},
     "output_type": "execute_result"
    },
    {
     "data": {
      "image/png": "[encoded data removed]",
      "text/plain": [
       "<matplotlib.figure.Figure at 0x1c71cf558d0>"
      ]
     },
     "metadata": {},
     "output_type": "display_data"
    }
   ],
   "source": [
    "ax = sns.countplot(x=\"Operation\", data=Tx_data, hue='Sex')\n",
    "plt.legend(('M', 'F'))"
   ]
  },
  {
   "cell_type": "markdown",
   "metadata": {},
   "source": [
    "## Rejection by sex\n",
    "#### Rejection =Yes ==1, Rejection =No ==0\n"
   ]
  },
  {
   "cell_type": "code",
   "execution_count": 19,
   "metadata": {},
   "outputs": [
    {
     "name": "stderr",
     "output_type": "stream",
     "text": [
      "C:\\Users\\Jiman\\Anaconda3\\lib\\site-packages\\ipykernel_launcher.py:2: SettingWithCopyWarning: \n",
      "A value is trying to be set on a copy of a slice from a DataFrame\n",
      "\n",
      "See the caveats in the documentation: http://pandas.pydata.org/pandas-docs/stable/indexing.html#indexing-view-versus-copy\n",
      "  \n",
      "C:\\Users\\Jiman\\Anaconda3\\lib\\site-packages\\ipykernel_launcher.py:3: SettingWithCopyWarning: \n",
      "A value is trying to be set on a copy of a slice from a DataFrame\n",
      "\n",
      "See the caveats in the documentation: http://pandas.pydata.org/pandas-docs/stable/indexing.html#indexing-view-versus-copy\n",
      "  This is separate from the ipykernel package so we can avoid doing imports until\n"
     ]
    }
   ],
   "source": [
    "#Data dictionary\n",
    "Tx_data.Rejection[Tx_data.Rejection == \"No\"] =0\n",
    "Tx_data.Rejection[Tx_data.Rejection ==\"Yes\"] =1\n",
    "\n",
    "def bar_chart(feature):\n",
    "    Not_Rejection = Tx_data[Tx_data['Rejection']==0][feature].value_counts()\n",
    "    Rejection = Tx_data[Tx_data['Rejection']==1][feature].value_counts()\n",
    "    df = pd.DataFrame([Not_Rejection,Rejection])\n",
    "    df.index = ['Not_Rejection','Rejection']\n",
    "    df.plot(kind='bar',stacked=True, figsize=(8,4), color=['b', 'g'])\n",
    "    plt.ylabel('Patient Numbers', fontsize=15)\n",
    "    plt.title('Rejection vs Sex', fontsize=18)\n",
    "    plt.legend(('M', 'F'))\n",
    "  "
   ]
  },
  {
   "cell_type": "code",
   "execution_count": 20,
   "metadata": {},
   "outputs": [
    {
     "data": {
      "image/png": "[encoded data removed]",
      "text/plain": [
       "<matplotlib.figure.Figure at 0x1c71e9fa320>"
      ]
     },
     "metadata": {},
     "output_type": "display_data"
    }
   ],
   "source": [
    "bar_chart('Sex')"
   ]
  },
  {
   "cell_type": "markdown",
   "metadata": {},
   "source": [
    "## Innate lymphoid cells (ILCs) are a family of innate effector cells \n",
    "### The integrity and maintenance of the intestinal tract and  the protection against infiltrating pathogens at the acute phase of infection\n",
    "\n",
    "![](http://www.cell.com/cms/attachment/2072895007/2068635175/fx1.jpg)\n",
    "\n",
    "\n",
    "####  Immunity(2015)Vol 43,  p146–160, 21"
   ]
  },
  {
   "cell_type": "code",
   "execution_count": 21,
   "metadata": {},
   "outputs": [
    {
     "data": {
      "text/plain": [
       "<seaborn.axisgrid.FacetGrid at 0x1c71d048828>"
      ]
     },
     "execution_count": 21,
     "metadata": {},
     "output_type": "execute_result"
    },
    {
     "data": {
      "image/png": "[encoded data removed]",
      "text/plain": [
       "<matplotlib.figure.Figure at 0x1c71cfbb128>"
      ]
     },
     "metadata": {},
     "output_type": "display_data"
    }
   ],
   "source": [
    "sns.lmplot(x='2_4wk_NCR_ILC1', y='2_4wk_NCR_ILC3', data=Tx_data)"
   ]
  },
  {
   "cell_type": "markdown",
   "metadata": {
    "collapsed": true
   },
   "source": [
    "## Missing data in Dataframe\n",
    "#### Drop NA value"
   ]
  },
  {
   "cell_type": "code",
   "execution_count": 22,
   "metadata": {},
   "outputs": [
    {
     "data": {
      "text/html": [
       "<div>\n",
       "<style>\n",
       "    .dataframe thead tr:only-child th {\n",
       "        text-align: right;\n",
       "    }\n",
       "\n",
       "    .dataframe thead th {\n",
       "        text-align: left;\n",
       "    }\n",
       "\n",
       "    .dataframe tbody tr th {\n",
       "        vertical-align: top;\n",
       "    }\n",
       "</style>\n",
       "<table border=\"1\" class=\"dataframe\">\n",
       "  <thead>\n",
       "    <tr style=\"text-align: right;\">\n",
       "      <th></th>\n",
       "      <th>Last</th>\n",
       "      <th>First</th>\n",
       "      <th>MRN</th>\n",
       "      <th>Race</th>\n",
       "      <th>Sex</th>\n",
       "      <th>Genotype</th>\n",
       "      <th>Age at Tx (yrs)</th>\n",
       "      <th>Date of SBTx</th>\n",
       "      <th>Operation</th>\n",
       "      <th>Primary Path</th>\n",
       "      <th>...</th>\n",
       "      <th>GVHD date</th>\n",
       "      <th>Death</th>\n",
       "      <th>Date of Death</th>\n",
       "      <th>Cause of Death</th>\n",
       "      <th>2_4wk_NCR_ILC1</th>\n",
       "      <th>2_4wk_NCR_ILC3</th>\n",
       "      <th>2_4M_NCR_ILC1</th>\n",
       "      <th>2_4M_NCR_ILC3</th>\n",
       "      <th>4_6M_NCR_ILC1</th>\n",
       "      <th>4_6M_NCR_ILC3</th>\n",
       "    </tr>\n",
       "  </thead>\n",
       "  <tbody>\n",
       "    <tr>\n",
       "      <th>0</th>\n",
       "      <td>XXX</td>\n",
       "      <td>XXX</td>\n",
       "      <td>720XXX</td>\n",
       "      <td>White</td>\n",
       "      <td>F</td>\n",
       "      <td>WT</td>\n",
       "      <td>3.9</td>\n",
       "      <td>9/3/2015</td>\n",
       "      <td>L/Panc/SB</td>\n",
       "      <td>Gastroschisis</td>\n",
       "      <td>...</td>\n",
       "      <td>NaN</td>\n",
       "      <td>No</td>\n",
       "      <td>NaN</td>\n",
       "      <td>NaN</td>\n",
       "      <td>83.9</td>\n",
       "      <td>0.00</td>\n",
       "      <td>88.9</td>\n",
       "      <td>0.00</td>\n",
       "      <td>92.9</td>\n",
       "      <td>2.17</td>\n",
       "    </tr>\n",
       "    <tr>\n",
       "      <th>1</th>\n",
       "      <td>XXX</td>\n",
       "      <td>XXX</td>\n",
       "      <td>632XXX</td>\n",
       "      <td>White</td>\n",
       "      <td>M</td>\n",
       "      <td>WT</td>\n",
       "      <td>20.7</td>\n",
       "      <td>9/18/2015</td>\n",
       "      <td>SB</td>\n",
       "      <td>Mitochodrial motility disorder</td>\n",
       "      <td>...</td>\n",
       "      <td>NaN</td>\n",
       "      <td>No</td>\n",
       "      <td>NaN</td>\n",
       "      <td>NaN</td>\n",
       "      <td>90.0</td>\n",
       "      <td>1.20</td>\n",
       "      <td>1.2</td>\n",
       "      <td>3.85</td>\n",
       "      <td>94.4</td>\n",
       "      <td>4.00</td>\n",
       "    </tr>\n",
       "    <tr>\n",
       "      <th>5</th>\n",
       "      <td>XXX</td>\n",
       "      <td>XXX</td>\n",
       "      <td>734XXX</td>\n",
       "      <td>White</td>\n",
       "      <td>M</td>\n",
       "      <td>WT</td>\n",
       "      <td>20.1</td>\n",
       "      <td>12/2/2015</td>\n",
       "      <td>SB</td>\n",
       "      <td>SGS 2/2 multiple SB resections from SBOs</td>\n",
       "      <td>...</td>\n",
       "      <td>NaN</td>\n",
       "      <td>No</td>\n",
       "      <td>NaN</td>\n",
       "      <td>NaN</td>\n",
       "      <td>76.9</td>\n",
       "      <td>0.00</td>\n",
       "      <td>24.0</td>\n",
       "      <td>6.38</td>\n",
       "      <td>0.0</td>\n",
       "      <td>27.30</td>\n",
       "    </tr>\n",
       "    <tr>\n",
       "      <th>6</th>\n",
       "      <td>XXX</td>\n",
       "      <td>XXX</td>\n",
       "      <td>737XXX</td>\n",
       "      <td>White</td>\n",
       "      <td>M</td>\n",
       "      <td>WT</td>\n",
       "      <td>1.2</td>\n",
       "      <td>12/8/2015</td>\n",
       "      <td>SB</td>\n",
       "      <td>Intestinal volvulus</td>\n",
       "      <td>...</td>\n",
       "      <td>NaN</td>\n",
       "      <td>No</td>\n",
       "      <td>NaN</td>\n",
       "      <td>NaN</td>\n",
       "      <td>60.5</td>\n",
       "      <td>0.97</td>\n",
       "      <td>69.0</td>\n",
       "      <td>0.53</td>\n",
       "      <td>69.4</td>\n",
       "      <td>3.93</td>\n",
       "    </tr>\n",
       "    <tr>\n",
       "      <th>7</th>\n",
       "      <td>XXX</td>\n",
       "      <td>XXX</td>\n",
       "      <td>736XXX</td>\n",
       "      <td>White</td>\n",
       "      <td>M</td>\n",
       "      <td>Mut</td>\n",
       "      <td>1.4</td>\n",
       "      <td>2/9/2016</td>\n",
       "      <td>L/Panc/SB</td>\n",
       "      <td>Intestinal volvulus 2/2 malrotation</td>\n",
       "      <td>...</td>\n",
       "      <td>NaN</td>\n",
       "      <td>No</td>\n",
       "      <td>NaN</td>\n",
       "      <td>NaN</td>\n",
       "      <td>78.8</td>\n",
       "      <td>1.92</td>\n",
       "      <td>NaN</td>\n",
       "      <td>NaN</td>\n",
       "      <td>35.3</td>\n",
       "      <td>5.13</td>\n",
       "    </tr>\n",
       "  </tbody>\n",
       "</table>\n",
       "<p>5 rows × 24 columns</p>\n",
       "</div>"
      ],
      "text/plain": [
       "  Last First     MRN   Race Sex Genotype  Age at Tx (yrs) Date of SBTx  \\\n",
       "0  XXX   XXX  720XXX  White   F       WT              3.9     9/3/2015   \n",
       "1  XXX   XXX  632XXX  White   M       WT             20.7    9/18/2015   \n",
       "5  XXX   XXX  734XXX  White   M       WT             20.1    12/2/2015   \n",
       "6  XXX   XXX  737XXX  White   M       WT              1.2    12/8/2015   \n",
       "7  XXX   XXX  736XXX  White   M      Mut              1.4     2/9/2016   \n",
       "\n",
       "   Operation                              Primary Path      ...        \\\n",
       "0  L/Panc/SB                             Gastroschisis      ...         \n",
       "1         SB            Mitochodrial motility disorder      ...         \n",
       "5         SB  SGS 2/2 multiple SB resections from SBOs      ...         \n",
       "6         SB                       Intestinal volvulus      ...         \n",
       "7  L/Panc/SB       Intestinal volvulus 2/2 malrotation      ...         \n",
       "\n",
       "  GVHD date Death  Date of Death Cause of Death 2_4wk_NCR_ILC1 2_4wk_NCR_ILC3  \\\n",
       "0       NaN    No            NaN            NaN           83.9           0.00   \n",
       "1       NaN    No            NaN            NaN           90.0           1.20   \n",
       "5       NaN    No            NaN            NaN           76.9           0.00   \n",
       "6       NaN    No            NaN            NaN           60.5           0.97   \n",
       "7       NaN    No            NaN            NaN           78.8           1.92   \n",
       "\n",
       "  2_4M_NCR_ILC1 2_4M_NCR_ILC3  4_6M_NCR_ILC1  4_6M_NCR_ILC3  \n",
       "0          88.9          0.00           92.9           2.17  \n",
       "1           1.2          3.85           94.4           4.00  \n",
       "5          24.0          6.38            0.0          27.30  \n",
       "6          69.0          0.53           69.4           3.93  \n",
       "7           NaN           NaN           35.3           5.13  \n",
       "\n",
       "[5 rows x 24 columns]"
      ]
     },
     "execution_count": 22,
     "metadata": {},
     "output_type": "execute_result"
    }
   ],
   "source": [
    "Tx_data.dropna(subset = ['2_4wk_NCR_ILC1','2_4wk_NCR_ILC3'], inplace = True )\n",
    "Tx_data.head()"
   ]
  },
  {
   "cell_type": "markdown",
   "metadata": {},
   "source": [
    "# linear regression and coefficient of determination"
   ]
  },
  {
   "cell_type": "code",
   "execution_count": 29,
   "metadata": {},
   "outputs": [
    {
     "data": {
      "image/png": "[encoded data removed]",
      "text/plain": [
       "<matplotlib.figure.Figure at 0x1c71d11e400>"
      ]
     },
     "metadata": {},
     "output_type": "display_data"
    }
   ],
   "source": [
    "import numpy as np\n",
    "from sklearn.linear_model import LinearRegression\n",
    "\n",
    "X = Tx_data[['2_4wk_NCR_ILC1']].values\n",
    "y = Tx_data[['2_4wk_NCR_ILC3']].values\n",
    "#Tx_data.dropna(subset =['2_4wk_NCR_ILC1','2_4wk_NCR_ILC3'])\n",
    "\n",
    "# Create the regressor\n",
    "reg = LinearRegression()\n",
    "reg.fit(X, y)              \n",
    "\n",
    "# Plot scatter plot of data\n",
    "plt.scatter(X, y)\n",
    "\n",
    "# Create the prediction space\n",
    "prediction_space = np.linspace(min(X), max(X)).reshape(-1,1)\n",
    "\n",
    "# Compute predictions over the prediction space: y_pred\n",
    "y_pred = reg.predict(prediction_space)\n",
    "\n",
    "# Plot regression line\n",
    "plt.plot(prediction_space, y_pred, color='black', linewidth=2)\n",
    "plt.show()"
   ]
  },
  {
   "cell_type": "code",
   "execution_count": 28,
   "metadata": {},
   "outputs": [
    {
     "name": "stdout",
     "output_type": "stream",
     "text": [
      "0.0231527380048\n"
     ]
    }
   ],
   "source": [
    "# Print R^2 \n",
    "print(reg.score(X, y))"
   ]
  },
  {
   "cell_type": "code",
   "execution_count": 25,
   "metadata": {},
   "outputs": [
    {
     "data": {
      "text/plain": [
       "(array([[ 0.06527825]]), array([ 2.04797786]))"
      ]
     },
     "execution_count": 25,
     "metadata": {},
     "output_type": "execute_result"
    }
   ],
   "source": [
    "# Print regression coefficient\n",
    "reg.coef_, reg.intercept_"
   ]
  },
  {
   "cell_type": "code",
   "execution_count": null,
   "metadata": {
    "collapsed": true
   },
   "outputs": [],
   "source": []
  }
 ],
 "metadata": {
  "kernelspec": {
   "display_name": "Python 3",
   "language": "python",
   "name": "python3"
  },
  "language_info": {
   "codemirror_mode": {
    "name": "ipython",
    "version": 3
   },
   "file_extension": ".py",
   "mimetype": "text/x-python",
   "name": "python",
   "nbconvert_exporter": "python",
   "pygments_lexer": "ipython3",
   "version": "3.6.1"
  }
 },
 "nbformat": 4,
 "nbformat_minor": 2
}
